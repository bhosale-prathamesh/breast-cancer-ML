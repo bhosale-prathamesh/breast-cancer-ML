{
 "cells": [
  {
   "cell_type": "markdown",
   "metadata": {},
   "source": [
    "# Logistic Regression\n",
    "Logistic regression is a model containig a single nueron or node. At its core Logsitc Regression is the simplest form of Neural network having a single neuron used for prediction let it be a binary classifier or regression model."
   ]
  },
  {
   "cell_type": "markdown",
   "metadata": {},
   "source": [
    "### Step 1: Importing Libraies\n",
    "- sklearn.model_selection for train_test_spit\n",
    "- sklearn.linear_model for Logistic Regression Model\n",
    "- sklearn.preprocessing for Scaling dataset\n",
    "- sklearn.datasets for loading datasets\n",
    "- pandas for performing operation on dataset\n",
    "- numpy for dataset operation"
   ]
  },
  {
   "cell_type": "code",
   "execution_count": 21,
   "metadata": {},
   "outputs": [],
   "source": [
    "from sklearn.model_selection import train_test_split\n",
    "from sklearn.linear_model import LogisticRegression\n",
    "from sklearn import preprocessing\n",
    "from sklearn.datasets import load_breast_cancer\n",
    "import pandas as pd\n",
    "import numpy as np\n",
    "import matplotlib.pyplot as plt"
   ]
  },
  {
   "cell_type": "markdown",
   "metadata": {},
   "source": [
    "### Step 2: Loading and Processing dataset\n",
    "Loading Breast Cancer Dataset from sklearn library for <b>Binary Classfication</b>. Splitting data in training and testing data. Scaling X features."
   ]
  },
  {
   "cell_type": "code",
   "execution_count": 22,
   "metadata": {},
   "outputs": [],
   "source": [
    "cancer = load_breast_cancer()\n",
    "\n",
    "df = pd.DataFrame(np.c_[cancer['data'], cancer['target']],columns= np.append(cancer['feature_names'], ['target']))\n",
    "X = df[df.columns[:-1]]\n",
    "y = np.array(df[['target']])\n",
    "y = y.reshape((y.shape[0],))\n",
    "\n",
    "X_train, X_test, y_train, y_test = train_test_split(X,y,random_state=0)\n",
    "\n",
    "X_train_scaled = preprocessing.scale(X_train)\n",
    "X_test_scaled = preprocessing.scale(X_test)"
   ]
  },
  {
   "cell_type": "markdown",
   "metadata": {},
   "source": [
    "### Step 3: Model Creation\n",
    "Creating a <b>Logistic regression</b> model and fitting the model to training data."
   ]
  },
  {
   "cell_type": "code",
   "execution_count": 23,
   "metadata": {},
   "outputs": [
    {
     "data": {
      "text/plain": [
       "LogisticRegression(C=5, max_iter=1000000.0)"
      ]
     },
     "execution_count": 23,
     "metadata": {},
     "output_type": "execute_result"
    }
   ],
   "source": [
    "model = LogisticRegression(C=5,max_iter=10e5)\n",
    "model.fit(X_train_scaled,y_train)"
   ]
  },
  {
   "cell_type": "markdown",
   "metadata": {},
   "source": [
    "### Step 4: Model Accuracy\n",
    "Checking model accuracy on training and testing data."
   ]
  },
  {
   "cell_type": "code",
   "execution_count": 24,
   "metadata": {},
   "outputs": [
    {
     "name": "stdout",
     "output_type": "stream",
     "text": [
      "Train Set Accuracy: 0.9906103286384976\n",
      "Test Set Accuracy 0.9370629370629371\n"
     ]
    }
   ],
   "source": [
    "train_score = model.score(X_train_scaled,y_train)\n",
    "print('Train Set Accuracy:',train_score)\n",
    "\n",
    "test_score = model.score(X_test_scaled,y_test)\n",
    "print('Test Set Accuracy',test_score)"
   ]
  },
  {
   "cell_type": "markdown",
   "metadata": {},
   "source": [
    "### Training Set Accuracy: 99.06%\n",
    "### Testing Set Accuarcy: 93.70%"
   ]
  }
 ],
 "metadata": {
  "kernelspec": {
   "display_name": "Python 3",
   "language": "python",
   "name": "python3"
  },
  "language_info": {
   "codemirror_mode": {
    "name": "ipython",
    "version": 3
   },
   "file_extension": ".py",
   "mimetype": "text/x-python",
   "name": "python",
   "nbconvert_exporter": "python",
   "pygments_lexer": "ipython3",
   "version": "3.8.1"
  }
 },
 "nbformat": 4,
 "nbformat_minor": 4
}
