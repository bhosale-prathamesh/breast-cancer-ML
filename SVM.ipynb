{
 "cells": [
  {
   "cell_type": "markdown",
   "metadata": {},
   "source": [
    "# Support Vector Machine (SVM)\n",
    "## Support Vector Classifier (SVC)\n",
    "Support Vector Classifier (SVC) are useful in binary as well as multi-class classifier.<br>\n",
    "Hyperparameters:\n",
    "<ul><li>kernel</li>\n",
    "    <li>degree (polynomial kernel)</li>\n",
    "    <li>regularization parameter: C</li>\n",
    "    <li>maximum iterations: max_iter</li>"
   ]
  },
  {
   "cell_type": "markdown",
   "metadata": {},
   "source": [
    "### Step 1:\n",
    "Importing Libraries:\n",
    "<ul>\n",
    "    <li>sklearn.model_selection for train_test_spit</li>\n",
    "    <li>sklearn.svm for SVC</li>\n",
    "    <li>sklearn.dataset for loading dataset</li>\n",
    "    <li>pandas for performing operations on dataset</li>\n",
    "    <li>numpy for dataset operations</li>"
   ]
  },
  {
   "cell_type": "code",
   "execution_count": 1,
   "metadata": {},
   "outputs": [],
   "source": [
    "from sklearn.model_selection import train_test_split\n",
    "from sklearn.svm import LinearSVC,SVC\n",
    "from sklearn.datasets import load_breast_cancer\n",
    "import pandas as pd\n",
    "import numpy as np"
   ]
  },
  {
   "cell_type": "markdown",
   "metadata": {},
   "source": [
    "### Step 2:\n",
    "Loading Dataset:<br>\n",
    "Loading Breast Cancer Dataset from sklearn library for <b>Binary Classfication</b><br>"
   ]
  },
  {
   "cell_type": "code",
   "execution_count": 2,
   "metadata": {},
   "outputs": [],
   "source": [
    "cancer = load_breast_cancer()\n",
    "\n",
    "df = pd.DataFrame(np.c_[cancer['data'], cancer['target']],columns= np.append(cancer['feature_names'], ['target']))\n",
    "X = df[df.columns[:-1]]\n",
    "y = df[['target']]\n",
    "#this next part is to avoid shape error while fitting to classifier.\n",
    "y = np.array(y)\n",
    "y = y.reshape((y.shape[0],))"
   ]
  },
  {
   "cell_type": "markdown",
   "metadata": {},
   "source": [
    "### Step 3:\n",
    "Splitting Dataset into training and testing split using sklearn.model_selection.train_test_split.<br>\n",
    "Parameter:\n",
    "<li>random_state - To make split constant each execution</li>"
   ]
  },
  {
   "cell_type": "code",
   "execution_count": 3,
   "metadata": {},
   "outputs": [],
   "source": [
    "X_train,X_test,y_train,y_test = train_test_split(X,y,random_state=0)"
   ]
  },
  {
   "cell_type": "markdown",
   "metadata": {},
   "source": [
    "### Step 4:\n",
    "Defining SVM classifer from sklearn.svm.SVC.<br>\n",
    "Parameters:\n",
    "<li>kernel - Specifies the kernel type to be used in the algorithm. It must be one of ‘linear’, ‘poly’, ‘rbf’, ‘sigmoid’, ‘precomputed’ or a callable. If none is given, ‘rbf’ will be used. 'linear' was found to work best for this dataset.</li>\n",
    "<li>C - Regularization parameter. The strength of the regularization is inversely proportional to C. Must be strictly positive. The penalty is a squared l2 penalty.(Default value - 1.0)</li>"
   ]
  },
  {
   "cell_type": "code",
   "execution_count": 4,
   "metadata": {},
   "outputs": [],
   "source": [
    "clf = SVC(kernel='linear',C=10)"
   ]
  },
  {
   "cell_type": "markdown",
   "metadata": {},
   "source": [
    "### Step 5:\n",
    "Fitting Dataset to Classifier"
   ]
  },
  {
   "cell_type": "code",
   "execution_count": 5,
   "metadata": {},
   "outputs": [
    {
     "data": {
      "text/plain": [
       "SVC(C=10, kernel='linear')"
      ]
     },
     "execution_count": 5,
     "metadata": {},
     "output_type": "execute_result"
    }
   ],
   "source": [
    "clf.fit(X_train,y_train)"
   ]
  },
  {
   "cell_type": "markdown",
   "metadata": {},
   "source": [
    "### Step 6:\n",
    "Predicting "
   ]
  },
  {
   "cell_type": "code",
   "execution_count": 6,
   "metadata": {},
   "outputs": [
    {
     "name": "stdout",
     "output_type": "stream",
     "text": [
      "Train Set Accuracy: 0.9765258215962441\n",
      "Test Set Accuracy: 0.965034965034965\n"
     ]
    }
   ],
   "source": [
    "train_score=(clf.score(X_train,y_train))\n",
    "    \n",
    "test_score=(clf.score(X_test,y_test))\n",
    "     \n",
    "print('Train Set Accuracy:',train_score)\n",
    "print('Test Set Accuracy:',test_score)"
   ]
  },
  {
   "cell_type": "markdown",
   "metadata": {},
   "source": [
    "## Training Set Accuracy\n",
    "# 97.65%\n",
    "## Test Set Accuracy\n",
    "# 96.50%"
   ]
  }
 ],
 "metadata": {
  "kernelspec": {
   "display_name": "Python 3",
   "language": "python",
   "name": "python3"
  },
  "language_info": {
   "codemirror_mode": {
    "name": "ipython",
    "version": 3
   },
   "file_extension": ".py",
   "mimetype": "text/x-python",
   "name": "python",
   "nbconvert_exporter": "python",
   "pygments_lexer": "ipython3",
   "version": "3.8.1"
  }
 },
 "nbformat": 4,
 "nbformat_minor": 4
}
